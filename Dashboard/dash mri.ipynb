{
 "cells": [
  {
   "cell_type": "code",
   "execution_count": 146,
   "id": "a3264e62",
   "metadata": {
    "extensions": {
     "jupyter_dashboards": {
      "version": 1,
      "views": {
       "default_view": {
        "hidden": true
       }
      }
     }
    }
   },
   "outputs": [],
   "source": [
    "import pandas as pd\n",
    "import ipywidgets as widgets"
   ]
  },
  {
   "cell_type": "code",
   "execution_count": 147,
   "id": "31296294",
   "metadata": {
    "extensions": {
     "jupyter_dashboards": {
      "version": 1,
      "views": {
       "default_view": {
        "col": 0,
        "height": 2,
        "row": 2,
        "width": 12
       }
      }
     }
    }
   },
   "outputs": [
    {
     "data": {
      "application/vnd.jupyter.widget-view+json": {
       "model_id": "fc7028d604834947aed2fa4db3c7aa5d",
       "version_major": 2,
       "version_minor": 0
      },
      "text/plain": [
       "interactive(children=(Dropdown(description='Select', options=(('none', 'Option not selected'), ('no_tumor', Im…"
      ]
     },
     "metadata": {},
     "output_type": "display_data"
    }
   ],
   "source": [
    "from ipywidgets import Layout\n",
    "from __future__ import print_function\n",
    "from ipywidgets import interact, interactive, fixed, interact_manual\n",
    "import ipywidgets as widgets\n",
    "\n",
    "file1 = open(\"D:./AMITY/NTCC-2 (2022)/normal.jpeg\", \"rb\")\n",
    "image1 = file1.read()\n",
    "w1=widgets.Image(\n",
    "    value=image1,\n",
    "    format='jpg',\n",
    "    width=300,\n",
    "    height=300,\n",
    ")\n",
    "\n",
    "file2 = open(\"D:./AMITY/NTCC-2 (2022)/glioma.jpg\", \"rb\")\n",
    "image2 = file2.read()\n",
    "w2=widgets.Image(\n",
    "    value=image2,\n",
    "    format='jpg',\n",
    "    width=300,\n",
    "    height=300,\n",
    ")\n",
    "\n",
    "\n",
    "file3 = open(\"D:./AMITY/NTCC-2 (2022)/menin.jpg\", \"rb\")\n",
    "image3 = file3.read()\n",
    "w3=widgets.Image(\n",
    "    value=image3,\n",
    "    format='jpg',\n",
    "    width=300,\n",
    "    height=300,\n",
    ")\n",
    "\n",
    "file4 = open(\"D:./AMITY/NTCC-2 (2022)/pit.jpg\", \"rb\")\n",
    "image4 = file4.read()\n",
    "w4=widgets.Image(\n",
    "    value=image4,\n",
    "    format='jpg',\n",
    "    width=300,\n",
    "    height=300,\n",
    ")\n",
    "\n",
    "def f(Select):\n",
    "    return Select\n",
    "\n",
    "interact(f,Select=[('none','Option not selected'),('no_tumor', w1), ('glioma_tumor', w2),('meningioma_tumor', w3),('pituitary_tumor', w4)]);"
   ]
  },
  {
   "cell_type": "code",
   "execution_count": 148,
   "id": "49385046",
   "metadata": {
    "extensions": {
     "jupyter_dashboards": {
      "version": 1,
      "views": {
       "default_view": {
        "col": 0,
        "height": 12,
        "row": 6,
        "width": 12
       }
      }
     }
    }
   },
   "outputs": [
    {
     "data": {
      "application/vnd.jupyter.widget-view+json": {
       "model_id": "0604ff7f6d27499f8c04118b6a3bbc2c",
       "version_major": 2,
       "version_minor": 0
      },
      "text/plain": [
       "Image(value=b'\\xff\\xd8\\xff\\xe0\\x00\\x10JFIF\\x00\\x01\\x01\\x01\\x00`\\x00`\\x00\\x00\\xff\\xdb\\x00C\\x00\\x03\\x02\\x02\\x03\\…"
      ]
     },
     "metadata": {},
     "output_type": "display_data"
    }
   ],
   "source": [
    "file = open(\"D:./AMITY/NTCC-2 (2022)/mri2.jpg\", \"rb\")\n",
    "image = file.read()\n",
    "widgets.Image(\n",
    "    value=image,\n",
    "    format='png',\n",
    "    width=1450,\n",
    "    height=100,\n",
    ")"
   ]
  },
  {
   "cell_type": "code",
   "execution_count": 149,
   "id": "7fb1e1c6",
   "metadata": {
    "extensions": {
     "jupyter_dashboards": {
      "version": 1,
      "views": {
       "default_view": {
        "hidden": true
       }
      }
     }
    }
   },
   "outputs": [
    {
     "data": {
      "application/vnd.jupyter.widget-view+json": {
       "model_id": "3a40e9dd48ac40e0a65619d2a5443392",
       "version_major": 2,
       "version_minor": 0
      },
      "text/plain": [
       "Label(value='Brain Tumor MRI Prediction')"
      ]
     },
     "metadata": {},
     "output_type": "display_data"
    }
   ],
   "source": [
    "w=widgets.Label(value=\"Brain Tumor MRI Prediction\")\n",
    "w.font_size=200\n",
    "display(w)"
   ]
  },
  {
   "cell_type": "code",
   "execution_count": 150,
   "id": "ee49dd46",
   "metadata": {
    "extensions": {
     "jupyter_dashboards": {
      "version": 1,
      "views": {
       "default_view": {
        "col": 3,
        "height": 5,
        "row": 18,
        "width": 8
       }
      }
     }
    }
   },
   "outputs": [
    {
     "data": {
      "application/vnd.jupyter.widget-view+json": {
       "model_id": "a1f9ed19e2f4424b9350cda346048b08",
       "version_major": 2,
       "version_minor": 0
      },
      "text/plain": [
       "HTML(value=\"<h1 style='font-size:70px'>    Brain Tumor MRI Prediction </h1>\")"
      ]
     },
     "metadata": {},
     "output_type": "display_data"
    }
   ],
   "source": [
    "html = \"<h1 style='font-size:70px'>    Brain Tumor MRI Prediction </h1>\"\n",
    "widgets.HTML(value=html)"
   ]
  },
  {
   "cell_type": "code",
   "execution_count": null,
   "id": "647503f4",
   "metadata": {
    "extensions": {
     "jupyter_dashboards": {
      "version": 1,
      "views": {
       "default_view": {
        "hidden": true
       }
      }
     }
    }
   },
   "outputs": [],
   "source": []
  },
  {
   "cell_type": "code",
   "execution_count": null,
   "id": "d151e3b7",
   "metadata": {
    "extensions": {
     "jupyter_dashboards": {
      "version": 1,
      "views": {
       "default_view": {
        "hidden": true
       }
      }
     }
    }
   },
   "outputs": [],
   "source": []
  }
 ],
 "metadata": {
  "extensions": {
   "jupyter_dashboards": {
    "activeView": "default_view",
    "version": 1,
    "views": {
     "default_view": {
      "cellMargin": 10,
      "defaultCellHeight": 40,
      "maxColumns": 12,
      "name": "active_view",
      "type": "grid"
     }
    }
   }
  },
  "kernelspec": {
   "display_name": "Python 3",
   "language": "python",
   "name": "python3"
  },
  "language_info": {
   "codemirror_mode": {
    "name": "ipython",
    "version": 3
   },
   "file_extension": ".py",
   "mimetype": "text/x-python",
   "name": "python",
   "nbconvert_exporter": "python",
   "pygments_lexer": "ipython3",
   "version": "3.8.8"
  }
 },
 "nbformat": 4,
 "nbformat_minor": 5
}
